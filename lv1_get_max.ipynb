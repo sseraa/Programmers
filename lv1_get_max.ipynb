{
 "cells": [
  {
   "cell_type": "code",
   "execution_count": 1,
   "metadata": {},
   "outputs": [
    {
     "name": "stdout",
     "output_type": "stream",
     "text": [
      "3.27.2\n",
      "2.6.0\n"
     ]
    }
   ],
   "source": [
    "#SQLite 이용방법\n",
    "import sqlite3 # built-in library (Python 2.x & 3.x)\n",
    "\n",
    "print(sqlite3.sqlite_version) # sqlite(dbms) version\n",
    "print(sqlite3.version) # pysqlite version -- for using by python"
   ]
  },
  {
   "cell_type": "code",
   "execution_count": 7,
   "metadata": {},
   "outputs": [
    {
     "data": {
      "text/plain": [
       "<sqlite3.Cursor at 0x7fe1140f1650>"
      ]
     },
     "execution_count": 7,
     "metadata": {},
     "output_type": "execute_result"
    }
   ],
   "source": [
    "import pandas as pd\n",
    "import sqlite3 # built-in library (Python 2.x & 3.x)\n",
    "\n",
    "dbpath = \"maindb_test.db\" # or \"maindb_2.sqlite\"\n",
    "conn = sqlite3.connect(dbpath)\n",
    "cur = conn.cursor() \n",
    "\n",
    "script = \"\"\"\n",
    "DROP TABLE IF EXISTS ANIMAL_INS;\n",
    "CREATE TABLE ANIMAL_INS ( \n",
    "    ANIMAL_ID TEXT PRIMARY KEY,\n",
    "    ANIMAL_TYPE TEXT NOT NULL, -- DEFAULT 0 값이 입력되지 않을 시 디폴트로 0을 저장합니다.(if no default -- NULL)\n",
    "    DATETIME TEXT NOT NULL, --NOT NULL ; vaules required \n",
    "    INTAKE_CONDITION TEXT NOT NULL,\n",
    "    NAME TEXT, -- NOT NULL UNIQUE 중복된 값이 입력될 경우 에러를 일으킵니다.\n",
    "    SEX_UPON_INTAKE TEXT NOT NULL  -- UNIQUE CHECK (Length(phone) >= 10) 길이가 10 이상이 아닐 경우 에러를 일으킵니다.\n",
    ");\n",
    "\"\"\" \n",
    "cur.executescript(script) # 여러개의 SQL 명령어를 한 장의 \"Script\"처럼 한번에 실행합니다.\n",
    "#cur.execute(script) "
   ]
  },
  {
   "cell_type": "code",
   "execution_count": 8,
   "metadata": {},
   "outputs": [
    {
     "data": {
      "text/html": [
       "<div>\n",
       "<style scoped>\n",
       "    .dataframe tbody tr th:only-of-type {\n",
       "        vertical-align: middle;\n",
       "    }\n",
       "\n",
       "    .dataframe tbody tr th {\n",
       "        vertical-align: top;\n",
       "    }\n",
       "\n",
       "    .dataframe thead th {\n",
       "        text-align: right;\n",
       "    }\n",
       "</style>\n",
       "<table border=\"1\" class=\"dataframe\">\n",
       "  <thead>\n",
       "    <tr style=\"text-align: right;\">\n",
       "      <th></th>\n",
       "      <th>ANIMAL_ID</th>\n",
       "      <th>ANIMAL_TYPE</th>\n",
       "      <th>DATETIME</th>\n",
       "      <th>INTAKE_CONDITION</th>\n",
       "      <th>NAME</th>\n",
       "      <th>SEX_UPON_INTAKE</th>\n",
       "    </tr>\n",
       "  </thead>\n",
       "  <tbody>\n",
       "  </tbody>\n",
       "</table>\n",
       "</div>"
      ],
      "text/plain": [
       "Empty DataFrame\n",
       "Columns: [ANIMAL_ID, ANIMAL_TYPE, DATETIME, INTAKE_CONDITION, NAME, SEX_UPON_INTAKE]\n",
       "Index: []"
      ]
     },
     "execution_count": 8,
     "metadata": {},
     "output_type": "execute_result"
    }
   ],
   "source": [
    "script = \"\"\"\n",
    "SELECT * FROM ANIMAL_INS;\n",
    "\"\"\" \n",
    "\n",
    "df = pd.read_sql_query(script, conn)\n",
    "df"
   ]
  },
  {
   "cell_type": "markdown",
   "metadata": {},
   "source": [
    "## 문제풀이"
   ]
  },
  {
   "cell_type": "code",
   "execution_count": null,
   "metadata": {},
   "outputs": [],
   "source": [
    "#1.최댓값 구하기\n",
    "#가장 최근에 들어온 동물 조회 SQL\n",
    "\n",
    "SELECT max(DATETIME) as '시간' \n",
    "FROM ANIMAL_INS"
   ]
  },
  {
   "cell_type": "code",
   "execution_count": null,
   "metadata": {},
   "outputs": [],
   "source": [
    "#2.모든 레코드 조회\n",
    "\n",
    "SELECT *\n",
    "FROM ANIMAL_INS\n",
    "ORDER BY \n",
    "    ANIMAL_ID"
   ]
  },
  {
   "cell_type": "code",
   "execution_count": null,
   "metadata": {},
   "outputs": [],
   "source": [
    "#3.역순 정렬하기\n",
    "SELECT NAME, DATETIME\n",
    "FROM animal_ins\n",
    "ORDER BY animal_id DESC"
   ]
  },
  {
   "cell_type": "code",
   "execution_count": null,
   "metadata": {},
   "outputs": [],
   "source": [
    "#4. 아픈 동물 찾기\n",
    "SELECT animal_id, name\n",
    "FROM animal_ins\n",
    "WHERE intake_condition = 'Sick'\n",
    "ORDER BY animal_id"
   ]
  },
  {
   "cell_type": "code",
   "execution_count": null,
   "metadata": {},
   "outputs": [],
   "source": [
    "#5. 젊은 동물 찾기\n",
    "SELECT ANIMAL_ID,NAME\n",
    "FROM animal_ins\n",
    "WHERE intake_condition != 'Aged'\n",
    "-- WHERE intake_condition NOT LIKE 'Aged'\n",
    "-- WHERE intake_condition NOT IN('Aged')\n",
    "ORDER BY animal_id"
   ]
  },
  {
   "cell_type": "code",
   "execution_count": null,
   "metadata": {},
   "outputs": [],
   "source": [
    "#6. 동물의 아이디와 이름\n",
    "SELECT ANIMAL_ID,NAME\n",
    "FROM animal_ins\n",
    "ORDER BY animal_id"
   ]
  },
  {
   "cell_type": "code",
   "execution_count": null,
   "metadata": {},
   "outputs": [],
   "source": [
    "#7. 여러 기준으로 정렬하기\n",
    "SELECT ANIMAL_ID,NAME,DATETIME\n",
    "FROM animal_ins\n",
    "ORDER BY name, datetime desc"
   ]
  },
  {
   "cell_type": "code",
   "execution_count": null,
   "metadata": {},
   "outputs": [],
   "source": [
    "#8. 상위 n개 레코드\n",
    "## 틀림 : HAVING min(datetime)\n",
    "\n",
    "SELECT NAME\n",
    "FROM animal_ins\n",
    "ORDER BY datetime\n",
    "LIMIT 1"
   ]
  },
  {
   "cell_type": "markdown",
   "metadata": {},
   "source": [
    "## 기타 코드 테스트"
   ]
  },
  {
   "cell_type": "code",
   "execution_count": null,
   "metadata": {},
   "outputs": [],
   "source": [
    "#강아지만 조회\n",
    "SELECT *\n",
    "FROM\n",
    "    ANIMAL_INS\n",
    "WHERE \n",
    "    ANIMAL_TYPE = 'Cat';"
   ]
  },
  {
   "cell_type": "code",
   "execution_count": null,
   "metadata": {},
   "outputs": [],
   "source": [
    "#where절에 조건주기\n",
    "SELECT *\n",
    "FROM ANIMAL_INS\n",
    "WHERE (ANIMAL_TYPE = 'Cat') and (animal_id LIKE 'A35%')\n",
    "\n",
    "#distinct 조건\n",
    "SELECT distinct SEX_UPON_intake, animal_id, animal_type\n",
    "FROM ANIMAL_INS\n",
    "WHERE (ANIMAL_TYPE = 'Cat') and (animal_id LIKE 'A35%')\n",
    "\n",
    "#count\n",
    "SELECT ANIMAL_ID,NAME,count(animal_id) as counted\n",
    "FROM animal_ins\n",
    "WHERE intake_condition != 'Aged'\n",
    "-- WHERE intake_condition NOT LIKE 'Aged'\n",
    "-- WHERE intake_condition NOT IN('Aged')\n",
    "ORDER BY animal_id\n",
    "\n",
    "#limit 10 offset 3 : 먼저 offset으로 3개 때어낸뒤, limit로 10개 가져옴(순서 유의!)\n",
    "SELECT NAME, datetime\n",
    "FROM animal_ins\n",
    "ORDER BY datetime\n",
    "LIMIT 10 OFFSET 3"
   ]
  },
  {
   "cell_type": "markdown",
   "metadata": {},
   "source": [
    "### 참고코드"
   ]
  },
  {
   "cell_type": "code",
   "execution_count": null,
   "metadata": {},
   "outputs": [],
   "source": [
    "script = \"\"\"\n",
    "SELECT\n",
    "    albumid,\n",
    "    COUNT(trackid)\n",
    "FROM\n",
    "    tracks\n",
    "GROUP BY\n",
    "    albumid\n",
    "HAVING \n",
    "    COUNT(trackid) Between 18 and 20;    -- 앨범에 속한 곡(track)의 수가 18 이상 20 이하(between A and B)인 앨범들\n",
    "\"\"\" \n",
    "\n",
    "\n",
    "#WHERE COUNT(trackid) BETWEEN 18 AND 20    -- (에러발생) WHERE는 HAVING과 비슷해보이나 이처럼 집계함수의 적용이 불가능합니다.\n"
   ]
  }
 ],
 "metadata": {
  "kernelspec": {
   "display_name": "Python 3",
   "language": "python",
   "name": "python3"
  },
  "language_info": {
   "codemirror_mode": {
    "name": "ipython",
    "version": 3
   },
   "file_extension": ".py",
   "mimetype": "text/x-python",
   "name": "python",
   "nbconvert_exporter": "python",
   "pygments_lexer": "ipython3",
   "version": "3.7.3"
  }
 },
 "nbformat": 4,
 "nbformat_minor": 2
}
